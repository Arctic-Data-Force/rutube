{
  "metadata": {
    "kernelspec": {
      "name": "python3",
      "display_name": "Python 3",
      "language": "python"
    },
    "language_info": {
      "name": "python",
      "version": "3.10.12",
      "mimetype": "text/x-python",
      "codemirror_mode": {
        "name": "ipython",
        "version": 3
      },
      "pygments_lexer": "ipython3",
      "nbconvert_exporter": "python",
      "file_extension": ".py"
    },
    "colab": {
      "provenance": []
    }
  },
  "nbformat_minor": 0,
  "nbformat": 4,
  "cells": [
    {
      "cell_type": "markdown",
      "source": [
        "### Базовое решение кейса \"Рекомендательная система видео\"\n",
        "### Кейсодержатель: RUTUBE\n",
        "#### Описание решения:\n",
        "\n",
        "Приведенное базовое решение основано на подсчете совстречаемостей видео в сессии пользователя, или если говорить \"по-бытовому\": посчитаем как часто один товар попадает вместе с другим в одну корзину. На рисунке ниже вы можете видеть, что к пиву очень разумно рекомендовать рыбку, ведь ее частенько берут в дополнение к этому напитку.\n",
        "\n",
        "Однако вполне реальной выглядит ситуация, что пиво встречается чаще в корзине с другим продуктом - с молоком. Почему так происходит? Молоко много с чем часто встречается в корзине просто потому что это очень популярный товар в магазине, в отличие от вяленой рыбки. Но было бы странно получать в рекомендациях к пиву молоко. Поэтому для расчета схожести применяется нормировка на популярность товаров! Далее на основе полученных для каждой пары товаров чисел, рекомендации можно отранжировать и получить в выдаче красоту, а не молоко:)\n",
        "\n",
        "Подробнее читайте тут: https://www.inf.unibz.it/~ricci/ISR/papers/p293-davidson.pdf\n",
        "\n",
        "![Рекомендации к пиву]"
      ],
      "metadata": {
        "id": "FX-lh14p1dmJ"
      }
    },
    {
      "cell_type": "code",
      "source": [
        "from google.colab import drive\n",
        "drive.mount(\"/content/gdrive\")"
      ],
      "metadata": {
        "colab": {
          "base_uri": "https://localhost:8080/"
        },
        "id": "OEvDA5W74NTV",
        "outputId": "98cf963f-2b48-4cb5-9c7c-3357c514dc81"
      },
      "execution_count": 1,
      "outputs": [
        {
          "output_type": "stream",
          "name": "stdout",
          "text": [
            "Drive already mounted at /content/gdrive; to attempt to forcibly remount, call drive.mount(\"/content/gdrive\", force_remount=True).\n"
          ]
        }
      ]
    },
    {
      "cell_type": "code",
      "source": [
        "# !pip install -r requirements.txt\n",
        "# !pip install implicit # ALS\n",
        "!pip install lightfm"
      ],
      "metadata": {
        "execution": {
          "iopub.status.busy": "2023-09-09T20:39:20.563272Z",
          "iopub.execute_input": "2023-09-09T20:39:20.563934Z",
          "iopub.status.idle": "2023-09-09T20:40:01.076566Z",
          "shell.execute_reply.started": "2023-09-09T20:39:20.563874Z",
          "shell.execute_reply": "2023-09-09T20:40:01.074932Z"
        },
        "trusted": true,
        "colab": {
          "base_uri": "https://localhost:8080/"
        },
        "id": "OGS3udRL1dmP",
        "outputId": "f3130816-34ef-4200-b130-137eee04c6d5"
      },
      "execution_count": 2,
      "outputs": [
        {
          "output_type": "stream",
          "name": "stdout",
          "text": [
            "Requirement already satisfied: lightfm in /usr/local/lib/python3.10/dist-packages (1.17)\n",
            "Requirement already satisfied: numpy in /usr/local/lib/python3.10/dist-packages (from lightfm) (1.23.5)\n",
            "Requirement already satisfied: scipy>=0.17.0 in /usr/local/lib/python3.10/dist-packages (from lightfm) (1.10.1)\n",
            "Requirement already satisfied: requests in /usr/local/lib/python3.10/dist-packages (from lightfm) (2.31.0)\n",
            "Requirement already satisfied: scikit-learn in /usr/local/lib/python3.10/dist-packages (from lightfm) (1.2.2)\n",
            "Requirement already satisfied: charset-normalizer<4,>=2 in /usr/local/lib/python3.10/dist-packages (from requests->lightfm) (3.2.0)\n",
            "Requirement already satisfied: idna<4,>=2.5 in /usr/local/lib/python3.10/dist-packages (from requests->lightfm) (3.4)\n",
            "Requirement already satisfied: urllib3<3,>=1.21.1 in /usr/local/lib/python3.10/dist-packages (from requests->lightfm) (2.0.4)\n",
            "Requirement already satisfied: certifi>=2017.4.17 in /usr/local/lib/python3.10/dist-packages (from requests->lightfm) (2023.7.22)\n",
            "Requirement already satisfied: joblib>=1.1.1 in /usr/local/lib/python3.10/dist-packages (from scikit-learn->lightfm) (1.3.2)\n",
            "Requirement already satisfied: threadpoolctl>=2.0.0 in /usr/local/lib/python3.10/dist-packages (from scikit-learn->lightfm) (3.2.0)\n"
          ]
        }
      ]
    },
    {
      "cell_type": "code",
      "source": [
        "import pandas as pd\n",
        "from collections import OrderedDict"
      ],
      "metadata": {
        "execution": {
          "iopub.status.busy": "2023-09-09T20:40:01.079385Z",
          "iopub.execute_input": "2023-09-09T20:40:01.079782Z",
          "iopub.status.idle": "2023-09-09T20:40:01.520710Z",
          "shell.execute_reply.started": "2023-09-09T20:40:01.079746Z",
          "shell.execute_reply": "2023-09-09T20:40:01.519385Z"
        },
        "trusted": true,
        "id": "KgnySKGM1dmR"
      },
      "execution_count": 3,
      "outputs": []
    },
    {
      "cell_type": "code",
      "source": [
        "videos_df = pd.read_parquet('/content/gdrive/MyDrive/Colab Notebooks/rutube/clean_data/preFinal_video.parquet')"
      ],
      "metadata": {
        "id": "TjBoqtfIBgoj"
      },
      "execution_count": 4,
      "outputs": []
    },
    {
      "cell_type": "code",
      "source": [
        "videos_df.head()"
      ],
      "metadata": {
        "colab": {
          "base_uri": "https://localhost:8080/",
          "height": 585
        },
        "id": "UFo3sFkyO6J1",
        "outputId": "ef3a0dcb-d5bb-4e16-c785-a8ef3047b6d8"
      },
      "execution_count": 5,
      "outputs": [
        {
          "output_type": "execute_result",
          "data": {
            "text/plain": [
              "         item_id                                        video_title  \\\n",
              "0   video_165654  MSI Pro MP241X недоОБЗОР (РЕШЕНИЕ ПРОБЛЕМЫ С М...   \n",
              "1  video_1173704       Наложение пястно фаланговой повязки на кисть   \n",
              "2    video_23927  SilverstoneF1 Sochi Pro и Neoline x cop 6000s ...   \n",
              "3  video_1003780  БОЛЬНИЦА в Brookhaven! ДОКТОР ПУПКИН спас ЖЕНИ...   \n",
              "4   video_105383  Вебинар \"Особенности трудоустройства граждан Б...   \n",
              "\n",
              "                 author_title    season  \\\n",
              "0                       Silvi -0.066471   \n",
              "1  УЦ \"Академия Безопасности\" -0.066471   \n",
              "2                     Artur48 -0.066471   \n",
              "3            ПАПА ДОЧКИ Games -0.066471   \n",
              "4          ЗАО \"Сплайн-Центр\" -0.066471   \n",
              "\n",
              "                                   video_description  publicated  duration  \\\n",
              "0  В видео я обывательским взглядом расскажу про ...    0.307617 -0.146267   \n",
              "1  Видео с канала УЦ Академия безопасности (ab-dp...    0.033179 -0.222731   \n",
              "2  SilverstoneF1 Sochi Pro и Neoline x cop 6000s ...    0.028254 -0.133251   \n",
              "3  Играем в Роблокс (Roblox) - БОЛЬНИЦА в Brookha...   -0.387065 -0.051790   \n",
              "4  10.08.2023 Вебинар \"Особенности трудоустройств...    0.567876  0.845478   \n",
              "\n",
              "   channel_sub    tv_sub  ctr.CTR_10days_21_07  ...  category_title_Спорт  \\\n",
              "0    -0.169441 -0.108148             -0.199587  ...                     0   \n",
              "1    -0.168210 -0.108148             -0.199587  ...                     0   \n",
              "2    -0.169346 -0.108148             -0.199587  ...                     0   \n",
              "3    -0.137591 -0.108148             -0.199587  ...                     0   \n",
              "4    -0.168541 -0.108148             -0.199587  ...                     0   \n",
              "\n",
              "   category_title_Спорт/Игры  category_title_Строительство и ремонт  \\\n",
              "0                          0                                      0   \n",
              "1                          0                                      0   \n",
              "2                          0                                      0   \n",
              "3                          0                                      0   \n",
              "4                          0                                      0   \n",
              "\n",
              "   category_title_Телепередачи  category_title_Техника и оборудование  \\\n",
              "0                            0                                      0   \n",
              "1                            0                                      0   \n",
              "2                            0                                      0   \n",
              "3                            0                                      0   \n",
              "4                            0                                      0   \n",
              "\n",
              "   category_title_Технологии и интернет  category_title_Фильмы  \\\n",
              "0                                     1                      0   \n",
              "1                                     0                      0   \n",
              "2                                     0                      0   \n",
              "3                                     0                      0   \n",
              "4                                     0                      0   \n",
              "\n",
              "   category_title_Хобби  category_title_Эзотерика  category_title_Юмор  \n",
              "0                     0                         0                    0  \n",
              "1                     0                         0                    0  \n",
              "2                     0                         0                    0  \n",
              "3                     0                         0                    0  \n",
              "4                     0                         0                    0  \n",
              "\n",
              "[5 rows x 59 columns]"
            ],
            "text/html": [
              "\n",
              "  <div id=\"df-8e180ddd-826b-4560-89c9-a2507892c8ca\" class=\"colab-df-container\">\n",
              "    <div>\n",
              "<style scoped>\n",
              "    .dataframe tbody tr th:only-of-type {\n",
              "        vertical-align: middle;\n",
              "    }\n",
              "\n",
              "    .dataframe tbody tr th {\n",
              "        vertical-align: top;\n",
              "    }\n",
              "\n",
              "    .dataframe thead th {\n",
              "        text-align: right;\n",
              "    }\n",
              "</style>\n",
              "<table border=\"1\" class=\"dataframe\">\n",
              "  <thead>\n",
              "    <tr style=\"text-align: right;\">\n",
              "      <th></th>\n",
              "      <th>item_id</th>\n",
              "      <th>video_title</th>\n",
              "      <th>author_title</th>\n",
              "      <th>season</th>\n",
              "      <th>video_description</th>\n",
              "      <th>publicated</th>\n",
              "      <th>duration</th>\n",
              "      <th>channel_sub</th>\n",
              "      <th>tv_sub</th>\n",
              "      <th>ctr.CTR_10days_21_07</th>\n",
              "      <th>...</th>\n",
              "      <th>category_title_Спорт</th>\n",
              "      <th>category_title_Спорт/Игры</th>\n",
              "      <th>category_title_Строительство и ремонт</th>\n",
              "      <th>category_title_Телепередачи</th>\n",
              "      <th>category_title_Техника и оборудование</th>\n",
              "      <th>category_title_Технологии и интернет</th>\n",
              "      <th>category_title_Фильмы</th>\n",
              "      <th>category_title_Хобби</th>\n",
              "      <th>category_title_Эзотерика</th>\n",
              "      <th>category_title_Юмор</th>\n",
              "    </tr>\n",
              "  </thead>\n",
              "  <tbody>\n",
              "    <tr>\n",
              "      <th>0</th>\n",
              "      <td>video_165654</td>\n",
              "      <td>MSI Pro MP241X недоОБЗОР (РЕШЕНИЕ ПРОБЛЕМЫ С М...</td>\n",
              "      <td>Silvi</td>\n",
              "      <td>-0.066471</td>\n",
              "      <td>В видео я обывательским взглядом расскажу про ...</td>\n",
              "      <td>0.307617</td>\n",
              "      <td>-0.146267</td>\n",
              "      <td>-0.169441</td>\n",
              "      <td>-0.108148</td>\n",
              "      <td>-0.199587</td>\n",
              "      <td>...</td>\n",
              "      <td>0</td>\n",
              "      <td>0</td>\n",
              "      <td>0</td>\n",
              "      <td>0</td>\n",
              "      <td>0</td>\n",
              "      <td>1</td>\n",
              "      <td>0</td>\n",
              "      <td>0</td>\n",
              "      <td>0</td>\n",
              "      <td>0</td>\n",
              "    </tr>\n",
              "    <tr>\n",
              "      <th>1</th>\n",
              "      <td>video_1173704</td>\n",
              "      <td>Наложение пястно фаланговой повязки на кисть</td>\n",
              "      <td>УЦ \"Академия Безопасности\"</td>\n",
              "      <td>-0.066471</td>\n",
              "      <td>Видео с канала УЦ Академия безопасности (ab-dp...</td>\n",
              "      <td>0.033179</td>\n",
              "      <td>-0.222731</td>\n",
              "      <td>-0.168210</td>\n",
              "      <td>-0.108148</td>\n",
              "      <td>-0.199587</td>\n",
              "      <td>...</td>\n",
              "      <td>0</td>\n",
              "      <td>0</td>\n",
              "      <td>0</td>\n",
              "      <td>0</td>\n",
              "      <td>0</td>\n",
              "      <td>0</td>\n",
              "      <td>0</td>\n",
              "      <td>0</td>\n",
              "      <td>0</td>\n",
              "      <td>0</td>\n",
              "    </tr>\n",
              "    <tr>\n",
              "      <th>2</th>\n",
              "      <td>video_23927</td>\n",
              "      <td>SilverstoneF1 Sochi Pro и Neoline x cop 6000s ...</td>\n",
              "      <td>Artur48</td>\n",
              "      <td>-0.066471</td>\n",
              "      <td>SilverstoneF1 Sochi Pro и Neoline x cop 6000s ...</td>\n",
              "      <td>0.028254</td>\n",
              "      <td>-0.133251</td>\n",
              "      <td>-0.169346</td>\n",
              "      <td>-0.108148</td>\n",
              "      <td>-0.199587</td>\n",
              "      <td>...</td>\n",
              "      <td>0</td>\n",
              "      <td>0</td>\n",
              "      <td>0</td>\n",
              "      <td>0</td>\n",
              "      <td>0</td>\n",
              "      <td>0</td>\n",
              "      <td>0</td>\n",
              "      <td>0</td>\n",
              "      <td>0</td>\n",
              "      <td>0</td>\n",
              "    </tr>\n",
              "    <tr>\n",
              "      <th>3</th>\n",
              "      <td>video_1003780</td>\n",
              "      <td>БОЛЬНИЦА в Brookhaven! ДОКТОР ПУПКИН спас ЖЕНИ...</td>\n",
              "      <td>ПАПА ДОЧКИ Games</td>\n",
              "      <td>-0.066471</td>\n",
              "      <td>Играем в Роблокс (Roblox) - БОЛЬНИЦА в Brookha...</td>\n",
              "      <td>-0.387065</td>\n",
              "      <td>-0.051790</td>\n",
              "      <td>-0.137591</td>\n",
              "      <td>-0.108148</td>\n",
              "      <td>-0.199587</td>\n",
              "      <td>...</td>\n",
              "      <td>0</td>\n",
              "      <td>0</td>\n",
              "      <td>0</td>\n",
              "      <td>0</td>\n",
              "      <td>0</td>\n",
              "      <td>0</td>\n",
              "      <td>0</td>\n",
              "      <td>0</td>\n",
              "      <td>0</td>\n",
              "      <td>0</td>\n",
              "    </tr>\n",
              "    <tr>\n",
              "      <th>4</th>\n",
              "      <td>video_105383</td>\n",
              "      <td>Вебинар \"Особенности трудоустройства граждан Б...</td>\n",
              "      <td>ЗАО \"Сплайн-Центр\"</td>\n",
              "      <td>-0.066471</td>\n",
              "      <td>10.08.2023 Вебинар \"Особенности трудоустройств...</td>\n",
              "      <td>0.567876</td>\n",
              "      <td>0.845478</td>\n",
              "      <td>-0.168541</td>\n",
              "      <td>-0.108148</td>\n",
              "      <td>-0.199587</td>\n",
              "      <td>...</td>\n",
              "      <td>0</td>\n",
              "      <td>0</td>\n",
              "      <td>0</td>\n",
              "      <td>0</td>\n",
              "      <td>0</td>\n",
              "      <td>0</td>\n",
              "      <td>0</td>\n",
              "      <td>0</td>\n",
              "      <td>0</td>\n",
              "      <td>0</td>\n",
              "    </tr>\n",
              "  </tbody>\n",
              "</table>\n",
              "<p>5 rows × 59 columns</p>\n",
              "</div>\n",
              "    <div class=\"colab-df-buttons\">\n",
              "\n",
              "  <div class=\"colab-df-container\">\n",
              "    <button class=\"colab-df-convert\" onclick=\"convertToInteractive('df-8e180ddd-826b-4560-89c9-a2507892c8ca')\"\n",
              "            title=\"Convert this dataframe to an interactive table.\"\n",
              "            style=\"display:none;\">\n",
              "\n",
              "  <svg xmlns=\"http://www.w3.org/2000/svg\" height=\"24px\" viewBox=\"0 -960 960 960\">\n",
              "    <path d=\"M120-120v-720h720v720H120Zm60-500h600v-160H180v160Zm220 220h160v-160H400v160Zm0 220h160v-160H400v160ZM180-400h160v-160H180v160Zm440 0h160v-160H620v160ZM180-180h160v-160H180v160Zm440 0h160v-160H620v160Z\"/>\n",
              "  </svg>\n",
              "    </button>\n",
              "\n",
              "  <style>\n",
              "    .colab-df-container {\n",
              "      display:flex;\n",
              "      gap: 12px;\n",
              "    }\n",
              "\n",
              "    .colab-df-convert {\n",
              "      background-color: #E8F0FE;\n",
              "      border: none;\n",
              "      border-radius: 50%;\n",
              "      cursor: pointer;\n",
              "      display: none;\n",
              "      fill: #1967D2;\n",
              "      height: 32px;\n",
              "      padding: 0 0 0 0;\n",
              "      width: 32px;\n",
              "    }\n",
              "\n",
              "    .colab-df-convert:hover {\n",
              "      background-color: #E2EBFA;\n",
              "      box-shadow: 0px 1px 2px rgba(60, 64, 67, 0.3), 0px 1px 3px 1px rgba(60, 64, 67, 0.15);\n",
              "      fill: #174EA6;\n",
              "    }\n",
              "\n",
              "    .colab-df-buttons div {\n",
              "      margin-bottom: 4px;\n",
              "    }\n",
              "\n",
              "    [theme=dark] .colab-df-convert {\n",
              "      background-color: #3B4455;\n",
              "      fill: #D2E3FC;\n",
              "    }\n",
              "\n",
              "    [theme=dark] .colab-df-convert:hover {\n",
              "      background-color: #434B5C;\n",
              "      box-shadow: 0px 1px 3px 1px rgba(0, 0, 0, 0.15);\n",
              "      filter: drop-shadow(0px 1px 2px rgba(0, 0, 0, 0.3));\n",
              "      fill: #FFFFFF;\n",
              "    }\n",
              "  </style>\n",
              "\n",
              "    <script>\n",
              "      const buttonEl =\n",
              "        document.querySelector('#df-8e180ddd-826b-4560-89c9-a2507892c8ca button.colab-df-convert');\n",
              "      buttonEl.style.display =\n",
              "        google.colab.kernel.accessAllowed ? 'block' : 'none';\n",
              "\n",
              "      async function convertToInteractive(key) {\n",
              "        const element = document.querySelector('#df-8e180ddd-826b-4560-89c9-a2507892c8ca');\n",
              "        const dataTable =\n",
              "          await google.colab.kernel.invokeFunction('convertToInteractive',\n",
              "                                                    [key], {});\n",
              "        if (!dataTable) return;\n",
              "\n",
              "        const docLinkHtml = 'Like what you see? Visit the ' +\n",
              "          '<a target=\"_blank\" href=https://colab.research.google.com/notebooks/data_table.ipynb>data table notebook</a>'\n",
              "          + ' to learn more about interactive tables.';\n",
              "        element.innerHTML = '';\n",
              "        dataTable['output_type'] = 'display_data';\n",
              "        await google.colab.output.renderOutput(dataTable, element);\n",
              "        const docLink = document.createElement('div');\n",
              "        docLink.innerHTML = docLinkHtml;\n",
              "        element.appendChild(docLink);\n",
              "      }\n",
              "    </script>\n",
              "  </div>\n",
              "\n",
              "\n",
              "<div id=\"df-ed6624af-f8af-4a3d-8982-aeaea064bde6\">\n",
              "  <button class=\"colab-df-quickchart\" onclick=\"quickchart('df-ed6624af-f8af-4a3d-8982-aeaea064bde6')\"\n",
              "            title=\"Suggest charts.\"\n",
              "            style=\"display:none;\">\n",
              "\n",
              "<svg xmlns=\"http://www.w3.org/2000/svg\" height=\"24px\"viewBox=\"0 0 24 24\"\n",
              "     width=\"24px\">\n",
              "    <g>\n",
              "        <path d=\"M19 3H5c-1.1 0-2 .9-2 2v14c0 1.1.9 2 2 2h14c1.1 0 2-.9 2-2V5c0-1.1-.9-2-2-2zM9 17H7v-7h2v7zm4 0h-2V7h2v10zm4 0h-2v-4h2v4z\"/>\n",
              "    </g>\n",
              "</svg>\n",
              "  </button>\n",
              "\n",
              "<style>\n",
              "  .colab-df-quickchart {\n",
              "      --bg-color: #E8F0FE;\n",
              "      --fill-color: #1967D2;\n",
              "      --hover-bg-color: #E2EBFA;\n",
              "      --hover-fill-color: #174EA6;\n",
              "      --disabled-fill-color: #AAA;\n",
              "      --disabled-bg-color: #DDD;\n",
              "  }\n",
              "\n",
              "  [theme=dark] .colab-df-quickchart {\n",
              "      --bg-color: #3B4455;\n",
              "      --fill-color: #D2E3FC;\n",
              "      --hover-bg-color: #434B5C;\n",
              "      --hover-fill-color: #FFFFFF;\n",
              "      --disabled-bg-color: #3B4455;\n",
              "      --disabled-fill-color: #666;\n",
              "  }\n",
              "\n",
              "  .colab-df-quickchart {\n",
              "    background-color: var(--bg-color);\n",
              "    border: none;\n",
              "    border-radius: 50%;\n",
              "    cursor: pointer;\n",
              "    display: none;\n",
              "    fill: var(--fill-color);\n",
              "    height: 32px;\n",
              "    padding: 0;\n",
              "    width: 32px;\n",
              "  }\n",
              "\n",
              "  .colab-df-quickchart:hover {\n",
              "    background-color: var(--hover-bg-color);\n",
              "    box-shadow: 0 1px 2px rgba(60, 64, 67, 0.3), 0 1px 3px 1px rgba(60, 64, 67, 0.15);\n",
              "    fill: var(--button-hover-fill-color);\n",
              "  }\n",
              "\n",
              "  .colab-df-quickchart-complete:disabled,\n",
              "  .colab-df-quickchart-complete:disabled:hover {\n",
              "    background-color: var(--disabled-bg-color);\n",
              "    fill: var(--disabled-fill-color);\n",
              "    box-shadow: none;\n",
              "  }\n",
              "\n",
              "  .colab-df-spinner {\n",
              "    border: 2px solid var(--fill-color);\n",
              "    border-color: transparent;\n",
              "    border-bottom-color: var(--fill-color);\n",
              "    animation:\n",
              "      spin 1s steps(1) infinite;\n",
              "  }\n",
              "\n",
              "  @keyframes spin {\n",
              "    0% {\n",
              "      border-color: transparent;\n",
              "      border-bottom-color: var(--fill-color);\n",
              "      border-left-color: var(--fill-color);\n",
              "    }\n",
              "    20% {\n",
              "      border-color: transparent;\n",
              "      border-left-color: var(--fill-color);\n",
              "      border-top-color: var(--fill-color);\n",
              "    }\n",
              "    30% {\n",
              "      border-color: transparent;\n",
              "      border-left-color: var(--fill-color);\n",
              "      border-top-color: var(--fill-color);\n",
              "      border-right-color: var(--fill-color);\n",
              "    }\n",
              "    40% {\n",
              "      border-color: transparent;\n",
              "      border-right-color: var(--fill-color);\n",
              "      border-top-color: var(--fill-color);\n",
              "    }\n",
              "    60% {\n",
              "      border-color: transparent;\n",
              "      border-right-color: var(--fill-color);\n",
              "    }\n",
              "    80% {\n",
              "      border-color: transparent;\n",
              "      border-right-color: var(--fill-color);\n",
              "      border-bottom-color: var(--fill-color);\n",
              "    }\n",
              "    90% {\n",
              "      border-color: transparent;\n",
              "      border-bottom-color: var(--fill-color);\n",
              "    }\n",
              "  }\n",
              "</style>\n",
              "\n",
              "  <script>\n",
              "    async function quickchart(key) {\n",
              "      const quickchartButtonEl =\n",
              "        document.querySelector('#' + key + ' button');\n",
              "      quickchartButtonEl.disabled = true;  // To prevent multiple clicks.\n",
              "      quickchartButtonEl.classList.add('colab-df-spinner');\n",
              "      try {\n",
              "        const charts = await google.colab.kernel.invokeFunction(\n",
              "            'suggestCharts', [key], {});\n",
              "      } catch (error) {\n",
              "        console.error('Error during call to suggestCharts:', error);\n",
              "      }\n",
              "      quickchartButtonEl.classList.remove('colab-df-spinner');\n",
              "      quickchartButtonEl.classList.add('colab-df-quickchart-complete');\n",
              "    }\n",
              "    (() => {\n",
              "      let quickchartButtonEl =\n",
              "        document.querySelector('#df-ed6624af-f8af-4a3d-8982-aeaea064bde6 button');\n",
              "      quickchartButtonEl.style.display =\n",
              "        google.colab.kernel.accessAllowed ? 'block' : 'none';\n",
              "    })();\n",
              "  </script>\n",
              "</div>\n",
              "    </div>\n",
              "  </div>\n"
            ]
          },
          "metadata": {},
          "execution_count": 5
        }
      ]
    },
    {
      "cell_type": "code",
      "source": [
        "feature_cols = videos_df.columns.tolist()\n",
        "feature_cols.remove('item_id')\n",
        "\n",
        "# Create a list to store item_features for each row\n",
        "item_features_list = []\n",
        "\n",
        "# Iterate over each row to extract item_features\n",
        "for _, row in videos_df.iterrows():\n",
        "    item_features = row[feature_cols].tolist()\n",
        "    item_features_list.append(item_features)\n",
        "\n",
        "# Create a new DataFrame with \"item_id\" and \"item_features\" columns\n",
        "new_df = pd.DataFrame({\n",
        "    'item_id': videos_df['item_id'],\n",
        "    'item_features': item_features_list\n",
        "})"
      ],
      "metadata": {
        "id": "u5VnUAUhPu0e"
      },
      "execution_count": 6,
      "outputs": []
    },
    {
      "cell_type": "code",
      "source": [
        "del videos_df"
      ],
      "metadata": {
        "id": "n_zR0cyOX6RS"
      },
      "execution_count": 8,
      "outputs": []
    },
    {
      "cell_type": "code",
      "source": [
        "pst1_df = pd.read_csv('/content/gdrive/MyDrive/Colab Notebooks/rutube/clean_data/final_df_1.csv')\n",
        "pst2_df = pd.read_csv('/content/gdrive/MyDrive/Colab Notebooks/rutube/clean_data/final_df_2.csv')\n",
        "clean_pst_df = pd.concat([pst1_df, pst2_df], axis=0)\n",
        "clean_pst_df = clean_pst_df.reset_index(drop=True)\n",
        "del pst1_df\n",
        "del pst2_df\n",
        "pst3_df = pd.read_csv('/content/gdrive/MyDrive/Colab Notebooks/rutube/clean_data/final_df_3.csv')\n",
        "pst4_df = pd.read_csv('/content/gdrive/MyDrive/Colab Notebooks/rutube/clean_data/final_df_4.csv')\n",
        "clean_pst_df = pd.concat([clean_pst_df, pst3_df, pst4_df], axis=0)\n",
        "clean_pst_df = clean_pst_df.reset_index(drop=True)\n",
        "del pst3_df\n",
        "del pst4_df"
      ],
      "metadata": {
        "execution": {
          "iopub.status.busy": "2023-09-09T20:40:01.521843Z",
          "iopub.execute_input": "2023-09-09T20:40:01.522334Z",
          "iopub.status.idle": "2023-09-09T20:40:37.632124Z",
          "shell.execute_reply.started": "2023-09-09T20:40:01.522304Z",
          "shell.execute_reply": "2023-09-09T20:40:37.630519Z"
        },
        "trusted": true,
        "id": "zcV8bpD61dmR"
      },
      "execution_count": null,
      "outputs": []
    },
    {
      "cell_type": "code",
      "source": [
        "clean_pst_df.info()"
      ],
      "metadata": {
        "colab": {
          "base_uri": "https://localhost:8080/"
        },
        "id": "TlUoKj7yCgXm",
        "outputId": "3859e62f-93e3-463d-a7b2-36ae2a8cd6ec"
      },
      "execution_count": 5,
      "outputs": [
        {
          "output_type": "stream",
          "name": "stdout",
          "text": [
            "<class 'pandas.core.frame.DataFrame'>\n",
            "RangeIndex: 29963739 entries, 0 to 29963738\n",
            "Data columns (total 6 columns):\n",
            " #   Column        Dtype  \n",
            "---  ------        -----  \n",
            " 0   user_id       object \n",
            " 1   item_id       object \n",
            " 2   duration      int64  \n",
            " 3   watch_time    float64\n",
            " 4   is_autorized  int64  \n",
            " 5   is_watched    int64  \n",
            "dtypes: float64(1), int64(3), object(2)\n",
            "memory usage: 1.3+ GB\n"
          ]
        }
      ]
    },
    {
      "cell_type": "code",
      "source": [
        "videos_df.info()"
      ],
      "metadata": {
        "execution": {
          "iopub.status.busy": "2023-09-09T20:40:37.635383Z",
          "iopub.execute_input": "2023-09-09T20:40:37.635817Z",
          "iopub.status.idle": "2023-09-09T20:40:37.661540Z",
          "shell.execute_reply.started": "2023-09-09T20:40:37.635782Z",
          "shell.execute_reply": "2023-09-09T20:40:37.660112Z"
        },
        "trusted": true,
        "id": "UymRf3ZU1dmS",
        "outputId": "b5a0493a-11b9-4d31-e06f-c5a6f15ca611"
      },
      "execution_count": null,
      "outputs": [
        {
          "name": "stdout",
          "text": "<class 'pandas.core.frame.DataFrame'>\nRangeIndex: 2320660 entries, 0 to 2320659\nData columns (total 15 columns):\n #   Column                Dtype  \n---  ------                -----  \n 0   item_id               object \n 1   video_title           object \n 2   author_title          object \n 3   tv_title              object \n 4   season                int64  \n 5   video_description     object \n 6   category_title        object \n 7   publicated            object \n 8   duration              int64  \n 9   channel_sub           int64  \n 10  tv_sub                int64  \n 11  ctr.CTR_10days_21_07  float64\n 12  ctr.CTR_10days_01_08  float64\n 13  ctr.CTR_10days_10_08  float64\n 14  ctr.CTR_10days_21_08  float64\ndtypes: float64(4), int64(4), object(7)\nmemory usage: 265.6+ MB\n",
          "output_type": "stream"
        }
      ]
    },
    {
      "cell_type": "code",
      "source": [
        "train_data = clean_pst_df[['user_id', 'item_id', 'is_watched']]"
      ],
      "metadata": {
        "execution": {
          "iopub.status.busy": "2023-09-09T20:41:36.884267Z",
          "iopub.execute_input": "2023-09-09T20:41:36.884612Z",
          "iopub.status.idle": "2023-09-09T20:41:37.005817Z",
          "shell.execute_reply.started": "2023-09-09T20:41:36.884582Z",
          "shell.execute_reply": "2023-09-09T20:41:37.004071Z"
        },
        "trusted": true,
        "id": "TqB69H1S1dmU"
      },
      "execution_count": 6,
      "outputs": []
    },
    {
      "cell_type": "code",
      "source": [
        "train_data.info()"
      ],
      "metadata": {
        "execution": {
          "iopub.status.busy": "2023-09-09T20:41:37.007779Z",
          "iopub.execute_input": "2023-09-09T20:41:37.008613Z",
          "iopub.status.idle": "2023-09-09T20:41:37.021220Z",
          "shell.execute_reply.started": "2023-09-09T20:41:37.008568Z",
          "shell.execute_reply": "2023-09-09T20:41:37.019691Z"
        },
        "trusted": true,
        "colab": {
          "base_uri": "https://localhost:8080/"
        },
        "id": "iUCqyUE71dmU",
        "outputId": "f44ee5a6-9c19-4b69-e901-1f5939ab577c"
      },
      "execution_count": 7,
      "outputs": [
        {
          "output_type": "stream",
          "name": "stdout",
          "text": [
            "<class 'pandas.core.frame.DataFrame'>\n",
            "RangeIndex: 29963739 entries, 0 to 29963738\n",
            "Data columns (total 3 columns):\n",
            " #   Column      Dtype \n",
            "---  ------      ----- \n",
            " 0   user_id     object\n",
            " 1   item_id     object\n",
            " 2   is_watched  int64 \n",
            "dtypes: int64(1), object(2)\n",
            "memory usage: 685.8+ MB\n"
          ]
        }
      ]
    },
    {
      "cell_type": "markdown",
      "source": [
        "# Получение разряжённой матрицы пользователей и видео для ALS"
      ],
      "metadata": {
        "id": "dWtl-sXX1dmV"
      }
    },
    {
      "cell_type": "code",
      "source": [
        "# from scipy import sparse\n",
        "\n",
        "# user_ids = train_data['user_id'].unique()\n",
        "# item_ids = train_data['item_id'].unique()\n",
        "# user_id_to_idx = {user_id: idx for idx, user_id in enumerate(user_ids)}\n",
        "# item_id_to_idx = {item_id: idx for idx, item_id in enumerate(item_ids)}\n",
        "\n",
        "# rows = [user_id_to_idx[user_id] for user_id in train_data['user_id']]\n",
        "# cols = [item_id_to_idx[item_id] for item_id in train_data['item_id']]\n",
        "\n",
        "# sparse_user_item = sparse.csr_matrix((train_data['is_watched'].values, (rows, cols)), shape=(len(user_ids), len(item_ids)))"
      ],
      "metadata": {
        "execution": {
          "iopub.status.busy": "2023-09-09T20:41:37.023201Z",
          "iopub.execute_input": "2023-09-09T20:41:37.023680Z",
          "iopub.status.idle": "2023-09-09T20:41:44.295262Z",
          "shell.execute_reply.started": "2023-09-09T20:41:37.023644Z",
          "shell.execute_reply": "2023-09-09T20:41:44.293479Z"
        },
        "trusted": true,
        "colab": {
          "base_uri": "https://localhost:8080/",
          "height": 373
        },
        "id": "XikG5Ftt1dmV",
        "outputId": "1e33af58-5843-473f-8458-707b61de2144"
      },
      "execution_count": 8,
      "outputs": [
        {
          "output_type": "error",
          "ename": "KeyboardInterrupt",
          "evalue": "ignored",
          "traceback": [
            "\u001b[0;31m---------------------------------------------------------------------------\u001b[0m",
            "\u001b[0;31mKeyboardInterrupt\u001b[0m                         Traceback (most recent call last)",
            "\u001b[0;32m<ipython-input-8-3fa036365dca>\u001b[0m in \u001b[0;36m<cell line: 11>\u001b[0;34m()\u001b[0m\n\u001b[1;32m      9\u001b[0m \u001b[0mcols\u001b[0m \u001b[0;34m=\u001b[0m \u001b[0;34m[\u001b[0m\u001b[0mitem_id_to_idx\u001b[0m\u001b[0;34m[\u001b[0m\u001b[0mitem_id\u001b[0m\u001b[0;34m]\u001b[0m \u001b[0;32mfor\u001b[0m \u001b[0mitem_id\u001b[0m \u001b[0;32min\u001b[0m \u001b[0mtrain_data\u001b[0m\u001b[0;34m[\u001b[0m\u001b[0;34m'item_id'\u001b[0m\u001b[0;34m]\u001b[0m\u001b[0;34m]\u001b[0m\u001b[0;34m\u001b[0m\u001b[0;34m\u001b[0m\u001b[0m\n\u001b[1;32m     10\u001b[0m \u001b[0;34m\u001b[0m\u001b[0m\n\u001b[0;32m---> 11\u001b[0;31m \u001b[0msparse_user_item\u001b[0m \u001b[0;34m=\u001b[0m \u001b[0msparse\u001b[0m\u001b[0;34m.\u001b[0m\u001b[0mcsr_matrix\u001b[0m\u001b[0;34m(\u001b[0m\u001b[0;34m(\u001b[0m\u001b[0mtrain_data\u001b[0m\u001b[0;34m[\u001b[0m\u001b[0;34m'is_watched'\u001b[0m\u001b[0;34m]\u001b[0m\u001b[0;34m.\u001b[0m\u001b[0mvalues\u001b[0m\u001b[0;34m,\u001b[0m \u001b[0;34m(\u001b[0m\u001b[0mrows\u001b[0m\u001b[0;34m,\u001b[0m \u001b[0mcols\u001b[0m\u001b[0;34m)\u001b[0m\u001b[0;34m)\u001b[0m\u001b[0;34m,\u001b[0m \u001b[0mshape\u001b[0m\u001b[0;34m=\u001b[0m\u001b[0;34m(\u001b[0m\u001b[0mlen\u001b[0m\u001b[0;34m(\u001b[0m\u001b[0muser_ids\u001b[0m\u001b[0;34m)\u001b[0m\u001b[0;34m,\u001b[0m \u001b[0mlen\u001b[0m\u001b[0;34m(\u001b[0m\u001b[0mitem_ids\u001b[0m\u001b[0;34m)\u001b[0m\u001b[0;34m)\u001b[0m\u001b[0;34m)\u001b[0m\u001b[0;34m\u001b[0m\u001b[0;34m\u001b[0m\u001b[0m\n\u001b[0m",
            "\u001b[0;32m/usr/local/lib/python3.10/dist-packages/scipy/sparse/_compressed.py\u001b[0m in \u001b[0;36m__init__\u001b[0;34m(self, arg1, shape, dtype, copy)\u001b[0m\n\u001b[1;32m     51\u001b[0m                     \u001b[0;31m# (data, ij) format\u001b[0m\u001b[0;34m\u001b[0m\u001b[0;34m\u001b[0m\u001b[0m\n\u001b[1;32m     52\u001b[0m                     other = self.__class__(\n\u001b[0;32m---> 53\u001b[0;31m                         \u001b[0mself\u001b[0m\u001b[0;34m.\u001b[0m\u001b[0m_coo_container\u001b[0m\u001b[0;34m(\u001b[0m\u001b[0marg1\u001b[0m\u001b[0;34m,\u001b[0m \u001b[0mshape\u001b[0m\u001b[0;34m=\u001b[0m\u001b[0mshape\u001b[0m\u001b[0;34m,\u001b[0m \u001b[0mdtype\u001b[0m\u001b[0;34m=\u001b[0m\u001b[0mdtype\u001b[0m\u001b[0;34m)\u001b[0m\u001b[0;34m\u001b[0m\u001b[0;34m\u001b[0m\u001b[0m\n\u001b[0m\u001b[1;32m     54\u001b[0m                     )\n\u001b[1;32m     55\u001b[0m                     \u001b[0mself\u001b[0m\u001b[0;34m.\u001b[0m\u001b[0m_set_self\u001b[0m\u001b[0;34m(\u001b[0m\u001b[0mother\u001b[0m\u001b[0;34m)\u001b[0m\u001b[0;34m\u001b[0m\u001b[0;34m\u001b[0m\u001b[0m\n",
            "\u001b[0;32m/usr/local/lib/python3.10/dist-packages/scipy/sparse/_coo.py\u001b[0m in \u001b[0;36m__init__\u001b[0;34m(self, arg1, shape, dtype, copy)\u001b[0m\n\u001b[1;32m    158\u001b[0m                 \u001b[0midx_dtype\u001b[0m \u001b[0;34m=\u001b[0m \u001b[0mget_index_dtype\u001b[0m\u001b[0;34m(\u001b[0m\u001b[0mmaxval\u001b[0m\u001b[0;34m=\u001b[0m\u001b[0mmax\u001b[0m\u001b[0;34m(\u001b[0m\u001b[0mself\u001b[0m\u001b[0;34m.\u001b[0m\u001b[0mshape\u001b[0m\u001b[0;34m)\u001b[0m\u001b[0;34m)\u001b[0m\u001b[0;34m\u001b[0m\u001b[0;34m\u001b[0m\u001b[0m\n\u001b[1;32m    159\u001b[0m                 \u001b[0mself\u001b[0m\u001b[0;34m.\u001b[0m\u001b[0mrow\u001b[0m \u001b[0;34m=\u001b[0m \u001b[0mnp\u001b[0m\u001b[0;34m.\u001b[0m\u001b[0marray\u001b[0m\u001b[0;34m(\u001b[0m\u001b[0mrow\u001b[0m\u001b[0;34m,\u001b[0m \u001b[0mcopy\u001b[0m\u001b[0;34m=\u001b[0m\u001b[0mcopy\u001b[0m\u001b[0;34m,\u001b[0m \u001b[0mdtype\u001b[0m\u001b[0;34m=\u001b[0m\u001b[0midx_dtype\u001b[0m\u001b[0;34m)\u001b[0m\u001b[0;34m\u001b[0m\u001b[0;34m\u001b[0m\u001b[0m\n\u001b[0;32m--> 160\u001b[0;31m                 \u001b[0mself\u001b[0m\u001b[0;34m.\u001b[0m\u001b[0mcol\u001b[0m \u001b[0;34m=\u001b[0m \u001b[0mnp\u001b[0m\u001b[0;34m.\u001b[0m\u001b[0marray\u001b[0m\u001b[0;34m(\u001b[0m\u001b[0mcol\u001b[0m\u001b[0;34m,\u001b[0m \u001b[0mcopy\u001b[0m\u001b[0;34m=\u001b[0m\u001b[0mcopy\u001b[0m\u001b[0;34m,\u001b[0m \u001b[0mdtype\u001b[0m\u001b[0;34m=\u001b[0m\u001b[0midx_dtype\u001b[0m\u001b[0;34m)\u001b[0m\u001b[0;34m\u001b[0m\u001b[0;34m\u001b[0m\u001b[0m\n\u001b[0m\u001b[1;32m    161\u001b[0m                 \u001b[0mself\u001b[0m\u001b[0;34m.\u001b[0m\u001b[0mdata\u001b[0m \u001b[0;34m=\u001b[0m \u001b[0mgetdata\u001b[0m\u001b[0;34m(\u001b[0m\u001b[0mobj\u001b[0m\u001b[0;34m,\u001b[0m \u001b[0mcopy\u001b[0m\u001b[0;34m=\u001b[0m\u001b[0mcopy\u001b[0m\u001b[0;34m,\u001b[0m \u001b[0mdtype\u001b[0m\u001b[0;34m=\u001b[0m\u001b[0mdtype\u001b[0m\u001b[0;34m)\u001b[0m\u001b[0;34m\u001b[0m\u001b[0;34m\u001b[0m\u001b[0m\n\u001b[1;32m    162\u001b[0m                 \u001b[0mself\u001b[0m\u001b[0;34m.\u001b[0m\u001b[0mhas_canonical_format\u001b[0m \u001b[0;34m=\u001b[0m \u001b[0;32mFalse\u001b[0m\u001b[0;34m\u001b[0m\u001b[0;34m\u001b[0m\u001b[0m\n",
            "\u001b[0;31mKeyboardInterrupt\u001b[0m: "
          ]
        }
      ]
    },
    {
      "cell_type": "code",
      "source": [
        "# sparse_user_item"
      ],
      "metadata": {
        "execution": {
          "iopub.status.busy": "2023-09-09T20:41:44.296951Z",
          "iopub.execute_input": "2023-09-09T20:41:44.297321Z",
          "iopub.status.idle": "2023-09-09T20:41:44.308534Z",
          "shell.execute_reply.started": "2023-09-09T20:41:44.297288Z",
          "shell.execute_reply": "2023-09-09T20:41:44.307515Z"
        },
        "trusted": true,
        "id": "p07T0PAL1dmV",
        "outputId": "b9e85010-983b-4bfc-b14e-1fe483f17b73"
      },
      "execution_count": null,
      "outputs": [
        {
          "execution_count": 18,
          "output_type": "execute_result",
          "data": {
            "text/plain": "<1313891x261288 sparse matrix of type '<class 'numpy.int64'>'\n\twith 2006839 stored elements in Compressed Sparse Row format>"
          },
          "metadata": {}
        }
      ]
    },
    {
      "cell_type": "markdown",
      "source": [
        "# Обучение LightFM"
      ],
      "metadata": {
        "id": "sjScgQ6h1dmV"
      }
    },
    {
      "cell_type": "code",
      "source": [
        "from lightfm import LightFM\n",
        "from lightfm.evaluation import precision_at_k\n",
        "from lightfm.data import Dataset\n",
        "from lightfm.cross_validation import random_train_test_split\n",
        "import numpy as np"
      ],
      "metadata": {
        "execution": {
          "iopub.status.busy": "2023-09-09T20:41:44.310345Z",
          "iopub.execute_input": "2023-09-09T20:41:44.311240Z",
          "iopub.status.idle": "2023-09-09T20:41:45.519580Z",
          "shell.execute_reply.started": "2023-09-09T20:41:44.311201Z",
          "shell.execute_reply": "2023-09-09T20:41:45.517783Z"
        },
        "trusted": true,
        "id": "lCn8RIIc1dmV"
      },
      "execution_count": 9,
      "outputs": []
    },
    {
      "cell_type": "code",
      "source": [
        "train_data.head()"
      ],
      "metadata": {
        "execution": {
          "iopub.status.busy": "2023-09-09T20:41:45.520997Z",
          "iopub.execute_input": "2023-09-09T20:41:45.521388Z",
          "iopub.status.idle": "2023-09-09T20:41:45.535035Z",
          "shell.execute_reply.started": "2023-09-09T20:41:45.521358Z",
          "shell.execute_reply": "2023-09-09T20:41:45.534142Z"
        },
        "trusted": true,
        "colab": {
          "base_uri": "https://localhost:8080/",
          "height": 206
        },
        "id": "0rnoWV9_1dmV",
        "outputId": "e4a6247a-4ac5-49cf-e4a6-836bbae146df"
      },
      "execution_count": 10,
      "outputs": [
        {
          "output_type": "execute_result",
          "data": {
            "text/plain": [
              "         user_id        item_id  is_watched\n",
              "0  user_15057892  video_1989987           1\n",
              "1   user_8293675   video_331810           5\n",
              "2    user_325285   video_523098           1\n",
              "3  user_11178664   video_833222           1\n",
              "4  user_26782853   video_863791           5"
            ],
            "text/html": [
              "\n",
              "  <div id=\"df-03013bfe-7753-489a-8373-765d121be8f0\" class=\"colab-df-container\">\n",
              "    <div>\n",
              "<style scoped>\n",
              "    .dataframe tbody tr th:only-of-type {\n",
              "        vertical-align: middle;\n",
              "    }\n",
              "\n",
              "    .dataframe tbody tr th {\n",
              "        vertical-align: top;\n",
              "    }\n",
              "\n",
              "    .dataframe thead th {\n",
              "        text-align: right;\n",
              "    }\n",
              "</style>\n",
              "<table border=\"1\" class=\"dataframe\">\n",
              "  <thead>\n",
              "    <tr style=\"text-align: right;\">\n",
              "      <th></th>\n",
              "      <th>user_id</th>\n",
              "      <th>item_id</th>\n",
              "      <th>is_watched</th>\n",
              "    </tr>\n",
              "  </thead>\n",
              "  <tbody>\n",
              "    <tr>\n",
              "      <th>0</th>\n",
              "      <td>user_15057892</td>\n",
              "      <td>video_1989987</td>\n",
              "      <td>1</td>\n",
              "    </tr>\n",
              "    <tr>\n",
              "      <th>1</th>\n",
              "      <td>user_8293675</td>\n",
              "      <td>video_331810</td>\n",
              "      <td>5</td>\n",
              "    </tr>\n",
              "    <tr>\n",
              "      <th>2</th>\n",
              "      <td>user_325285</td>\n",
              "      <td>video_523098</td>\n",
              "      <td>1</td>\n",
              "    </tr>\n",
              "    <tr>\n",
              "      <th>3</th>\n",
              "      <td>user_11178664</td>\n",
              "      <td>video_833222</td>\n",
              "      <td>1</td>\n",
              "    </tr>\n",
              "    <tr>\n",
              "      <th>4</th>\n",
              "      <td>user_26782853</td>\n",
              "      <td>video_863791</td>\n",
              "      <td>5</td>\n",
              "    </tr>\n",
              "  </tbody>\n",
              "</table>\n",
              "</div>\n",
              "    <div class=\"colab-df-buttons\">\n",
              "\n",
              "  <div class=\"colab-df-container\">\n",
              "    <button class=\"colab-df-convert\" onclick=\"convertToInteractive('df-03013bfe-7753-489a-8373-765d121be8f0')\"\n",
              "            title=\"Convert this dataframe to an interactive table.\"\n",
              "            style=\"display:none;\">\n",
              "\n",
              "  <svg xmlns=\"http://www.w3.org/2000/svg\" height=\"24px\" viewBox=\"0 -960 960 960\">\n",
              "    <path d=\"M120-120v-720h720v720H120Zm60-500h600v-160H180v160Zm220 220h160v-160H400v160Zm0 220h160v-160H400v160ZM180-400h160v-160H180v160Zm440 0h160v-160H620v160ZM180-180h160v-160H180v160Zm440 0h160v-160H620v160Z\"/>\n",
              "  </svg>\n",
              "    </button>\n",
              "\n",
              "  <style>\n",
              "    .colab-df-container {\n",
              "      display:flex;\n",
              "      gap: 12px;\n",
              "    }\n",
              "\n",
              "    .colab-df-convert {\n",
              "      background-color: #E8F0FE;\n",
              "      border: none;\n",
              "      border-radius: 50%;\n",
              "      cursor: pointer;\n",
              "      display: none;\n",
              "      fill: #1967D2;\n",
              "      height: 32px;\n",
              "      padding: 0 0 0 0;\n",
              "      width: 32px;\n",
              "    }\n",
              "\n",
              "    .colab-df-convert:hover {\n",
              "      background-color: #E2EBFA;\n",
              "      box-shadow: 0px 1px 2px rgba(60, 64, 67, 0.3), 0px 1px 3px 1px rgba(60, 64, 67, 0.15);\n",
              "      fill: #174EA6;\n",
              "    }\n",
              "\n",
              "    .colab-df-buttons div {\n",
              "      margin-bottom: 4px;\n",
              "    }\n",
              "\n",
              "    [theme=dark] .colab-df-convert {\n",
              "      background-color: #3B4455;\n",
              "      fill: #D2E3FC;\n",
              "    }\n",
              "\n",
              "    [theme=dark] .colab-df-convert:hover {\n",
              "      background-color: #434B5C;\n",
              "      box-shadow: 0px 1px 3px 1px rgba(0, 0, 0, 0.15);\n",
              "      filter: drop-shadow(0px 1px 2px rgba(0, 0, 0, 0.3));\n",
              "      fill: #FFFFFF;\n",
              "    }\n",
              "  </style>\n",
              "\n",
              "    <script>\n",
              "      const buttonEl =\n",
              "        document.querySelector('#df-03013bfe-7753-489a-8373-765d121be8f0 button.colab-df-convert');\n",
              "      buttonEl.style.display =\n",
              "        google.colab.kernel.accessAllowed ? 'block' : 'none';\n",
              "\n",
              "      async function convertToInteractive(key) {\n",
              "        const element = document.querySelector('#df-03013bfe-7753-489a-8373-765d121be8f0');\n",
              "        const dataTable =\n",
              "          await google.colab.kernel.invokeFunction('convertToInteractive',\n",
              "                                                    [key], {});\n",
              "        if (!dataTable) return;\n",
              "\n",
              "        const docLinkHtml = 'Like what you see? Visit the ' +\n",
              "          '<a target=\"_blank\" href=https://colab.research.google.com/notebooks/data_table.ipynb>data table notebook</a>'\n",
              "          + ' to learn more about interactive tables.';\n",
              "        element.innerHTML = '';\n",
              "        dataTable['output_type'] = 'display_data';\n",
              "        await google.colab.output.renderOutput(dataTable, element);\n",
              "        const docLink = document.createElement('div');\n",
              "        docLink.innerHTML = docLinkHtml;\n",
              "        element.appendChild(docLink);\n",
              "      }\n",
              "    </script>\n",
              "  </div>\n",
              "\n",
              "\n",
              "<div id=\"df-612a28f1-a2e6-4f0c-83af-7be30bd5a4e2\">\n",
              "  <button class=\"colab-df-quickchart\" onclick=\"quickchart('df-612a28f1-a2e6-4f0c-83af-7be30bd5a4e2')\"\n",
              "            title=\"Suggest charts.\"\n",
              "            style=\"display:none;\">\n",
              "\n",
              "<svg xmlns=\"http://www.w3.org/2000/svg\" height=\"24px\"viewBox=\"0 0 24 24\"\n",
              "     width=\"24px\">\n",
              "    <g>\n",
              "        <path d=\"M19 3H5c-1.1 0-2 .9-2 2v14c0 1.1.9 2 2 2h14c1.1 0 2-.9 2-2V5c0-1.1-.9-2-2-2zM9 17H7v-7h2v7zm4 0h-2V7h2v10zm4 0h-2v-4h2v4z\"/>\n",
              "    </g>\n",
              "</svg>\n",
              "  </button>\n",
              "\n",
              "<style>\n",
              "  .colab-df-quickchart {\n",
              "      --bg-color: #E8F0FE;\n",
              "      --fill-color: #1967D2;\n",
              "      --hover-bg-color: #E2EBFA;\n",
              "      --hover-fill-color: #174EA6;\n",
              "      --disabled-fill-color: #AAA;\n",
              "      --disabled-bg-color: #DDD;\n",
              "  }\n",
              "\n",
              "  [theme=dark] .colab-df-quickchart {\n",
              "      --bg-color: #3B4455;\n",
              "      --fill-color: #D2E3FC;\n",
              "      --hover-bg-color: #434B5C;\n",
              "      --hover-fill-color: #FFFFFF;\n",
              "      --disabled-bg-color: #3B4455;\n",
              "      --disabled-fill-color: #666;\n",
              "  }\n",
              "\n",
              "  .colab-df-quickchart {\n",
              "    background-color: var(--bg-color);\n",
              "    border: none;\n",
              "    border-radius: 50%;\n",
              "    cursor: pointer;\n",
              "    display: none;\n",
              "    fill: var(--fill-color);\n",
              "    height: 32px;\n",
              "    padding: 0;\n",
              "    width: 32px;\n",
              "  }\n",
              "\n",
              "  .colab-df-quickchart:hover {\n",
              "    background-color: var(--hover-bg-color);\n",
              "    box-shadow: 0 1px 2px rgba(60, 64, 67, 0.3), 0 1px 3px 1px rgba(60, 64, 67, 0.15);\n",
              "    fill: var(--button-hover-fill-color);\n",
              "  }\n",
              "\n",
              "  .colab-df-quickchart-complete:disabled,\n",
              "  .colab-df-quickchart-complete:disabled:hover {\n",
              "    background-color: var(--disabled-bg-color);\n",
              "    fill: var(--disabled-fill-color);\n",
              "    box-shadow: none;\n",
              "  }\n",
              "\n",
              "  .colab-df-spinner {\n",
              "    border: 2px solid var(--fill-color);\n",
              "    border-color: transparent;\n",
              "    border-bottom-color: var(--fill-color);\n",
              "    animation:\n",
              "      spin 1s steps(1) infinite;\n",
              "  }\n",
              "\n",
              "  @keyframes spin {\n",
              "    0% {\n",
              "      border-color: transparent;\n",
              "      border-bottom-color: var(--fill-color);\n",
              "      border-left-color: var(--fill-color);\n",
              "    }\n",
              "    20% {\n",
              "      border-color: transparent;\n",
              "      border-left-color: var(--fill-color);\n",
              "      border-top-color: var(--fill-color);\n",
              "    }\n",
              "    30% {\n",
              "      border-color: transparent;\n",
              "      border-left-color: var(--fill-color);\n",
              "      border-top-color: var(--fill-color);\n",
              "      border-right-color: var(--fill-color);\n",
              "    }\n",
              "    40% {\n",
              "      border-color: transparent;\n",
              "      border-right-color: var(--fill-color);\n",
              "      border-top-color: var(--fill-color);\n",
              "    }\n",
              "    60% {\n",
              "      border-color: transparent;\n",
              "      border-right-color: var(--fill-color);\n",
              "    }\n",
              "    80% {\n",
              "      border-color: transparent;\n",
              "      border-right-color: var(--fill-color);\n",
              "      border-bottom-color: var(--fill-color);\n",
              "    }\n",
              "    90% {\n",
              "      border-color: transparent;\n",
              "      border-bottom-color: var(--fill-color);\n",
              "    }\n",
              "  }\n",
              "</style>\n",
              "\n",
              "  <script>\n",
              "    async function quickchart(key) {\n",
              "      const quickchartButtonEl =\n",
              "        document.querySelector('#' + key + ' button');\n",
              "      quickchartButtonEl.disabled = true;  // To prevent multiple clicks.\n",
              "      quickchartButtonEl.classList.add('colab-df-spinner');\n",
              "      try {\n",
              "        const charts = await google.colab.kernel.invokeFunction(\n",
              "            'suggestCharts', [key], {});\n",
              "      } catch (error) {\n",
              "        console.error('Error during call to suggestCharts:', error);\n",
              "      }\n",
              "      quickchartButtonEl.classList.remove('colab-df-spinner');\n",
              "      quickchartButtonEl.classList.add('colab-df-quickchart-complete');\n",
              "    }\n",
              "    (() => {\n",
              "      let quickchartButtonEl =\n",
              "        document.querySelector('#df-612a28f1-a2e6-4f0c-83af-7be30bd5a4e2 button');\n",
              "      quickchartButtonEl.style.display =\n",
              "        google.colab.kernel.accessAllowed ? 'block' : 'none';\n",
              "    })();\n",
              "  </script>\n",
              "</div>\n",
              "    </div>\n",
              "  </div>\n"
            ]
          },
          "metadata": {},
          "execution_count": 10
        }
      ]
    },
    {
      "cell_type": "markdown",
      "source": [
        "## Формирование датасета"
      ],
      "metadata": {
        "id": "ZQFYszyD1dmW"
      }
    },
    {
      "cell_type": "code",
      "source": [
        "train_data['user_id'] = train_data['user_id'].str.replace('user_', '').astype(int)\n",
        "train_data['item_id'] = train_data['item_id'].str.replace('video_', '').astype(int)"
      ],
      "metadata": {
        "execution": {
          "iopub.status.busy": "2023-09-09T20:41:45.536984Z",
          "iopub.execute_input": "2023-09-09T20:41:45.537657Z",
          "iopub.status.idle": "2023-09-09T20:41:50.487466Z",
          "shell.execute_reply.started": "2023-09-09T20:41:45.537610Z",
          "shell.execute_reply": "2023-09-09T20:41:50.486182Z"
        },
        "trusted": true,
        "colab": {
          "base_uri": "https://localhost:8080/"
        },
        "id": "W3CmhSgj1dmW",
        "outputId": "a369621a-4b9b-4ea7-b790-bb4ddae541f0"
      },
      "execution_count": 11,
      "outputs": [
        {
          "output_type": "stream",
          "name": "stderr",
          "text": [
            "<ipython-input-11-37ffda31e2fe>:1: SettingWithCopyWarning: \n",
            "A value is trying to be set on a copy of a slice from a DataFrame.\n",
            "Try using .loc[row_indexer,col_indexer] = value instead\n",
            "\n",
            "See the caveats in the documentation: https://pandas.pydata.org/pandas-docs/stable/user_guide/indexing.html#returning-a-view-versus-a-copy\n",
            "  train_data['user_id'] = train_data['user_id'].str.replace('user_', '').astype(int)\n",
            "<ipython-input-11-37ffda31e2fe>:2: SettingWithCopyWarning: \n",
            "A value is trying to be set on a copy of a slice from a DataFrame.\n",
            "Try using .loc[row_indexer,col_indexer] = value instead\n",
            "\n",
            "See the caveats in the documentation: https://pandas.pydata.org/pandas-docs/stable/user_guide/indexing.html#returning-a-view-versus-a-copy\n",
            "  train_data['item_id'] = train_data['item_id'].str.replace('video_', '').astype(int)\n"
          ]
        }
      ]
    },
    {
      "cell_type": "code",
      "source": [
        "dataset = Dataset()\n",
        "\n",
        "users = train_data['user_id']\n",
        "items = train_data['item_id']\n",
        "\n",
        "# Fit the dataset with the user and item data\n",
        "dataset.fit(train_data['user_id'], train_data['item_id'])\n",
        "\n",
        "(interactions, _) = dataset.build_interactions(zip(train_data['user_id'], train_data['item_id'], train_data['is_watched']))"
      ],
      "metadata": {
        "execution": {
          "iopub.status.busy": "2023-09-09T20:41:50.489121Z",
          "iopub.execute_input": "2023-09-09T20:41:50.489636Z",
          "iopub.status.idle": "2023-09-09T20:42:06.098041Z",
          "shell.execute_reply.started": "2023-09-09T20:41:50.489598Z",
          "shell.execute_reply": "2023-09-09T20:42:06.096906Z"
        },
        "trusted": true,
        "id": "HAH_qddE1dmW"
      },
      "execution_count": 12,
      "outputs": []
    },
    {
      "cell_type": "code",
      "source": [
        "# Split the dataset into training and testing sets\n",
        "# train, test = random_train_test_split(interactions, test_percentage=0.2)"
      ],
      "metadata": {
        "execution": {
          "iopub.status.busy": "2023-09-09T20:42:06.099548Z",
          "iopub.execute_input": "2023-09-09T20:42:06.099956Z",
          "iopub.status.idle": "2023-09-09T20:42:06.267473Z",
          "shell.execute_reply.started": "2023-09-09T20:42:06.099922Z",
          "shell.execute_reply": "2023-09-09T20:42:06.266262Z"
        },
        "trusted": true,
        "id": "ytzcx2lh1dmW"
      },
      "execution_count": null,
      "outputs": []
    },
    {
      "cell_type": "code",
      "source": [
        "# Create a model object\n",
        "model = LightFM(loss='warp')\n",
        "\n",
        "# Train the model\n",
        "model.fit(interactions, epochs=20, num_threads=2)"
      ],
      "metadata": {
        "execution": {
          "iopub.status.busy": "2023-09-09T20:42:06.268839Z",
          "iopub.execute_input": "2023-09-09T20:42:06.269143Z",
          "iopub.status.idle": "2023-09-09T20:43:24.377549Z",
          "shell.execute_reply.started": "2023-09-09T20:42:06.269116Z",
          "shell.execute_reply": "2023-09-09T20:43:24.376075Z"
        },
        "trusted": true,
        "colab": {
          "base_uri": "https://localhost:8080/"
        },
        "id": "8Fz5U8Na1dmW",
        "outputId": "6a30ba38-084c-4a83-f3f0-5c284b31f93e"
      },
      "execution_count": 13,
      "outputs": [
        {
          "output_type": "execute_result",
          "data": {
            "text/plain": [
              "<lightfm.lightfm.LightFM at 0x7973532b60e0>"
            ]
          },
          "metadata": {},
          "execution_count": 13
        }
      ]
    },
    {
      "cell_type": "code",
      "source": [
        "import pickle\n",
        "\n",
        "with open('/content/gdrive/MyDrive/Colab Notebooks/rutube/recsys.pickle', 'wb') as fle:\n",
        "    pickle.dump(model, fle, protocol=pickle.HIGHEST_PROTOCOL)"
      ],
      "metadata": {
        "id": "4jXDvHh0MDgJ"
      },
      "execution_count": null,
      "outputs": []
    },
    {
      "cell_type": "code",
      "source": [
        "scores = model.predict(674229, np.arange(interactions.shape[1]))"
      ],
      "metadata": {
        "execution": {
          "iopub.status.busy": "2023-09-09T20:55:48.071531Z",
          "iopub.execute_input": "2023-09-09T20:55:48.072028Z",
          "iopub.status.idle": "2023-09-09T20:55:48.105896Z",
          "shell.execute_reply.started": "2023-09-09T20:55:48.071993Z",
          "shell.execute_reply": "2023-09-09T20:55:48.104132Z"
        },
        "trusted": true,
        "id": "ZDegwPmD1dmW"
      },
      "execution_count": 14,
      "outputs": []
    },
    {
      "cell_type": "code",
      "source": [
        "top_items = np.argsort(-scores)[:1000]"
      ],
      "metadata": {
        "execution": {
          "iopub.status.busy": "2023-09-09T20:57:55.058795Z",
          "iopub.execute_input": "2023-09-09T20:57:55.059222Z",
          "iopub.status.idle": "2023-09-09T20:57:55.092699Z",
          "shell.execute_reply.started": "2023-09-09T20:57:55.059192Z",
          "shell.execute_reply": "2023-09-09T20:57:55.091499Z"
        },
        "trusted": true,
        "id": "boZLenqS1dmW"
      },
      "execution_count": 15,
      "outputs": []
    },
    {
      "cell_type": "code",
      "source": [
        "#recommendations = model.predict(np.arange(train_data['user_id'].shape[0]), np.arange(train_data['item_id'].shape[0]))"
      ],
      "metadata": {
        "execution": {
          "iopub.status.busy": "2023-09-09T19:29:04.820781Z",
          "iopub.execute_input": "2023-09-09T19:29:04.821199Z",
          "iopub.status.idle": "2023-09-09T19:29:04.918353Z",
          "shell.execute_reply.started": "2023-09-09T19:29:04.821164Z",
          "shell.execute_reply": "2023-09-09T19:29:04.916823Z"
        },
        "trusted": true,
        "id": "ixbY6m181dmX",
        "outputId": "bf6b2986-fa70-4694-d02e-9c7c7fe9cb09"
      },
      "execution_count": null,
      "outputs": [
        {
          "traceback": [
            "\u001b[0;31m---------------------------------------------------------------------------\u001b[0m",
            "\u001b[0;31mValueError\u001b[0m                                Traceback (most recent call last)",
            "Cell \u001b[0;32mIn[27], line 1\u001b[0m\n\u001b[0;32m----> 1\u001b[0m recommendations \u001b[38;5;241m=\u001b[39m \u001b[43mmodel\u001b[49m\u001b[38;5;241;43m.\u001b[39;49m\u001b[43mpredict\u001b[49m\u001b[43m(\u001b[49m\u001b[43mnp\u001b[49m\u001b[38;5;241;43m.\u001b[39;49m\u001b[43marange\u001b[49m\u001b[43m(\u001b[49m\u001b[43mtrain_data\u001b[49m\u001b[43m[\u001b[49m\u001b[38;5;124;43m'\u001b[39;49m\u001b[38;5;124;43mitem_id\u001b[39;49m\u001b[38;5;124;43m'\u001b[39;49m\u001b[43m]\u001b[49m\u001b[38;5;241;43m.\u001b[39;49m\u001b[43mshape\u001b[49m\u001b[43m[\u001b[49m\u001b[38;5;241;43m0\u001b[39;49m\u001b[43m]\u001b[49m\u001b[43m)\u001b[49m\u001b[43m,\u001b[49m\u001b[43m \u001b[49m\u001b[43mnp\u001b[49m\u001b[38;5;241;43m.\u001b[39;49m\u001b[43marange\u001b[49m\u001b[43m(\u001b[49m\u001b[43mtrain_data\u001b[49m\u001b[43m[\u001b[49m\u001b[38;5;124;43m'\u001b[39;49m\u001b[38;5;124;43muser_id\u001b[39;49m\u001b[38;5;124;43m'\u001b[39;49m\u001b[43m]\u001b[49m\u001b[38;5;241;43m.\u001b[39;49m\u001b[43mshape\u001b[49m\u001b[43m[\u001b[49m\u001b[38;5;241;43m0\u001b[39;49m\u001b[43m]\u001b[49m\u001b[43m)\u001b[49m\u001b[43m)\u001b[49m\n",
            "File \u001b[0;32m/opt/conda/lib/python3.10/site-packages/lightfm/lightfm.py:854\u001b[0m, in \u001b[0;36mLightFM.predict\u001b[0;34m(self, user_ids, item_ids, item_features, user_features, num_threads)\u001b[0m\n\u001b[1;32m    851\u001b[0m n_users \u001b[38;5;241m=\u001b[39m user_ids\u001b[38;5;241m.\u001b[39mmax() \u001b[38;5;241m+\u001b[39m \u001b[38;5;241m1\u001b[39m\n\u001b[1;32m    852\u001b[0m n_items \u001b[38;5;241m=\u001b[39m item_ids\u001b[38;5;241m.\u001b[39mmax() \u001b[38;5;241m+\u001b[39m \u001b[38;5;241m1\u001b[39m\n\u001b[0;32m--> 854\u001b[0m (user_features, item_features) \u001b[38;5;241m=\u001b[39m \u001b[38;5;28;43mself\u001b[39;49m\u001b[38;5;241;43m.\u001b[39;49m\u001b[43m_construct_feature_matrices\u001b[49m\u001b[43m(\u001b[49m\n\u001b[1;32m    855\u001b[0m \u001b[43m    \u001b[49m\u001b[43mn_users\u001b[49m\u001b[43m,\u001b[49m\u001b[43m \u001b[49m\u001b[43mn_items\u001b[49m\u001b[43m,\u001b[49m\u001b[43m \u001b[49m\u001b[43muser_features\u001b[49m\u001b[43m,\u001b[49m\u001b[43m \u001b[49m\u001b[43mitem_features\u001b[49m\n\u001b[1;32m    856\u001b[0m \u001b[43m\u001b[49m\u001b[43m)\u001b[49m\n\u001b[1;32m    858\u001b[0m lightfm_data \u001b[38;5;241m=\u001b[39m \u001b[38;5;28mself\u001b[39m\u001b[38;5;241m.\u001b[39m_get_lightfm_data()\n\u001b[1;32m    860\u001b[0m predictions \u001b[38;5;241m=\u001b[39m np\u001b[38;5;241m.\u001b[39mempty(\u001b[38;5;28mlen\u001b[39m(user_ids), dtype\u001b[38;5;241m=\u001b[39mnp\u001b[38;5;241m.\u001b[39mfloat32)\n",
            "File \u001b[0;32m/opt/conda/lib/python3.10/site-packages/lightfm/lightfm.py:342\u001b[0m, in \u001b[0;36mLightFM._construct_feature_matrices\u001b[0;34m(self, n_users, n_items, user_features, item_features)\u001b[0m\n\u001b[1;32m    340\u001b[0m \u001b[38;5;28;01mif\u001b[39;00m \u001b[38;5;28mself\u001b[39m\u001b[38;5;241m.\u001b[39muser_embeddings \u001b[38;5;129;01mis\u001b[39;00m \u001b[38;5;129;01mnot\u001b[39;00m \u001b[38;5;28;01mNone\u001b[39;00m:\n\u001b[1;32m    341\u001b[0m     \u001b[38;5;28;01mif\u001b[39;00m \u001b[38;5;129;01mnot\u001b[39;00m \u001b[38;5;28mself\u001b[39m\u001b[38;5;241m.\u001b[39muser_embeddings\u001b[38;5;241m.\u001b[39mshape[\u001b[38;5;241m0\u001b[39m] \u001b[38;5;241m>\u001b[39m\u001b[38;5;241m=\u001b[39m user_features\u001b[38;5;241m.\u001b[39mshape[\u001b[38;5;241m1\u001b[39m]:\n\u001b[0;32m--> 342\u001b[0m         \u001b[38;5;28;01mraise\u001b[39;00m \u001b[38;5;167;01mValueError\u001b[39;00m(\n\u001b[1;32m    343\u001b[0m             \u001b[38;5;124m\"\u001b[39m\u001b[38;5;124mThe user feature matrix specifies more \u001b[39m\u001b[38;5;124m\"\u001b[39m\n\u001b[1;32m    344\u001b[0m             \u001b[38;5;124m\"\u001b[39m\u001b[38;5;124mfeatures than there are estimated \u001b[39m\u001b[38;5;124m\"\u001b[39m\n\u001b[1;32m    345\u001b[0m             \u001b[38;5;124m\"\u001b[39m\u001b[38;5;124mfeature embeddings: \u001b[39m\u001b[38;5;132;01m{}\u001b[39;00m\u001b[38;5;124m vs \u001b[39m\u001b[38;5;132;01m{}\u001b[39;00m\u001b[38;5;124m.\u001b[39m\u001b[38;5;124m\"\u001b[39m\u001b[38;5;241m.\u001b[39mformat(\n\u001b[1;32m    346\u001b[0m                 \u001b[38;5;28mself\u001b[39m\u001b[38;5;241m.\u001b[39muser_embeddings\u001b[38;5;241m.\u001b[39mshape[\u001b[38;5;241m0\u001b[39m], user_features\u001b[38;5;241m.\u001b[39mshape[\u001b[38;5;241m1\u001b[39m]\n\u001b[1;32m    347\u001b[0m             )\n\u001b[1;32m    348\u001b[0m         )\n\u001b[1;32m    350\u001b[0m \u001b[38;5;28;01mif\u001b[39;00m \u001b[38;5;28mself\u001b[39m\u001b[38;5;241m.\u001b[39mitem_embeddings \u001b[38;5;129;01mis\u001b[39;00m \u001b[38;5;129;01mnot\u001b[39;00m \u001b[38;5;28;01mNone\u001b[39;00m:\n\u001b[1;32m    351\u001b[0m     \u001b[38;5;28;01mif\u001b[39;00m \u001b[38;5;129;01mnot\u001b[39;00m \u001b[38;5;28mself\u001b[39m\u001b[38;5;241m.\u001b[39mitem_embeddings\u001b[38;5;241m.\u001b[39mshape[\u001b[38;5;241m0\u001b[39m] \u001b[38;5;241m>\u001b[39m\u001b[38;5;241m=\u001b[39m item_features\u001b[38;5;241m.\u001b[39mshape[\u001b[38;5;241m1\u001b[39m]:\n",
            "\u001b[0;31mValueError\u001b[0m: The user feature matrix specifies more features than there are estimated feature embeddings: 1313891 vs 2439644."
          ],
          "ename": "ValueError",
          "evalue": "The user feature matrix specifies more features than there are estimated feature embeddings: 1313891 vs 2439644.",
          "output_type": "error"
        }
      ]
    },
    {
      "cell_type": "code",
      "source": [
        "# # Создаем и обучаем модель\n",
        "# model = LightFM(loss='warp')\n",
        "# sparse_user_item_coo = sparse.coo_matrix((train_data['target'].values, (rows, cols)), shape=(len(user_ids), len(item_ids)))\n",
        "# %time model.fit(dataset, epochs=30, num_threads=2)"
      ],
      "metadata": {
        "trusted": true,
        "id": "RPcS2Mfm1dmX"
      },
      "execution_count": null,
      "outputs": []
    },
    {
      "cell_type": "code",
      "source": [
        "# sparse_user_item_coo"
      ],
      "metadata": {
        "trusted": true,
        "id": "OexpVV0s1dmX"
      },
      "execution_count": null,
      "outputs": []
    },
    {
      "cell_type": "code",
      "source": [
        "# model.predict(user_ids, item_ids)"
      ],
      "metadata": {
        "trusted": true,
        "id": "_IHQ6-kj1dmX"
      },
      "execution_count": null,
      "outputs": []
    },
    {
      "cell_type": "code",
      "source": [
        "# # Предсказываем оценки для всех пар пользователь-видео\n",
        "# user_ids = np.array(range(len(user_ids)))  # Convert range object to a list\n",
        "# item_ids = np.array(range(len(item_ids)))  # Convert range object to a list\n",
        "\n",
        "# scores = model.predict(user_ids, item_ids)\n",
        "# top_recommendations = np.argsort(-scores, axis=1)[:, :10]"
      ],
      "metadata": {
        "execution": {
          "iopub.status.busy": "2023-09-09T20:57:34.630768Z",
          "iopub.execute_input": "2023-09-09T20:57:34.631287Z",
          "iopub.status.idle": "2023-09-09T20:57:35.166434Z",
          "shell.execute_reply.started": "2023-09-09T20:57:34.631252Z",
          "shell.execute_reply": "2023-09-09T20:57:35.163891Z"
        },
        "trusted": true,
        "id": "fCUBp9Am1dmX",
        "outputId": "83691606-32da-45dc-9e87-dc0d8ff8e93d"
      },
      "execution_count": null,
      "outputs": [
        {
          "traceback": [
            "\u001b[0;31m---------------------------------------------------------------------------\u001b[0m",
            "\u001b[0;31mValueError\u001b[0m                                Traceback (most recent call last)",
            "Cell \u001b[0;32mIn[62], line 5\u001b[0m\n\u001b[1;32m      2\u001b[0m user_ids \u001b[38;5;241m=\u001b[39m np\u001b[38;5;241m.\u001b[39marray(\u001b[38;5;28mrange\u001b[39m(\u001b[38;5;28mlen\u001b[39m(user_ids)))  \u001b[38;5;66;03m# Convert range object to a list\u001b[39;00m\n\u001b[1;32m      3\u001b[0m item_ids \u001b[38;5;241m=\u001b[39m np\u001b[38;5;241m.\u001b[39marray(\u001b[38;5;28mrange\u001b[39m(\u001b[38;5;28mlen\u001b[39m(item_ids)))  \u001b[38;5;66;03m# Convert range object to a list\u001b[39;00m\n\u001b[0;32m----> 5\u001b[0m scores \u001b[38;5;241m=\u001b[39m \u001b[43mmodel\u001b[49m\u001b[38;5;241;43m.\u001b[39;49m\u001b[43mpredict\u001b[49m\u001b[43m(\u001b[49m\u001b[43muser_ids\u001b[49m\u001b[43m,\u001b[49m\u001b[43m \u001b[49m\u001b[43mitem_ids\u001b[49m\u001b[43m)\u001b[49m\n\u001b[1;32m      6\u001b[0m top_recommendations \u001b[38;5;241m=\u001b[39m np\u001b[38;5;241m.\u001b[39margsort(\u001b[38;5;241m-\u001b[39mscores, axis\u001b[38;5;241m=\u001b[39m\u001b[38;5;241m1\u001b[39m)[:, :\u001b[38;5;241m1000\u001b[39m]\n",
            "File \u001b[0;32m/opt/conda/lib/python3.10/site-packages/lightfm/lightfm.py:831\u001b[0m, in \u001b[0;36mLightFM.predict\u001b[0;34m(self, user_ids, item_ids, item_features, user_features, num_threads)\u001b[0m\n\u001b[1;32m    828\u001b[0m     item_ids \u001b[38;5;241m=\u001b[39m np\u001b[38;5;241m.\u001b[39marray(item_ids, dtype\u001b[38;5;241m=\u001b[39mnp\u001b[38;5;241m.\u001b[39mint32)\n\u001b[1;32m    830\u001b[0m \u001b[38;5;28;01mif\u001b[39;00m \u001b[38;5;28mlen\u001b[39m(user_ids) \u001b[38;5;241m!=\u001b[39m \u001b[38;5;28mlen\u001b[39m(item_ids):\n\u001b[0;32m--> 831\u001b[0m     \u001b[38;5;28;01mraise\u001b[39;00m \u001b[38;5;167;01mValueError\u001b[39;00m(\n\u001b[1;32m    832\u001b[0m         \u001b[38;5;124mf\u001b[39m\u001b[38;5;124m\"\u001b[39m\u001b[38;5;124mExpected the number of user IDs (\u001b[39m\u001b[38;5;132;01m{\u001b[39;00m\u001b[38;5;28mlen\u001b[39m(user_ids)\u001b[38;5;132;01m}\u001b[39;00m\u001b[38;5;124m) to equal the number\u001b[39m\u001b[38;5;124m\"\u001b[39m\n\u001b[1;32m    833\u001b[0m         \u001b[38;5;124mf\u001b[39m\u001b[38;5;124m\"\u001b[39m\u001b[38;5;124m of item IDs (\u001b[39m\u001b[38;5;132;01m{\u001b[39;00m\u001b[38;5;28mlen\u001b[39m(item_ids)\u001b[38;5;132;01m}\u001b[39;00m\u001b[38;5;124m)\u001b[39m\u001b[38;5;124m\"\u001b[39m\n\u001b[1;32m    834\u001b[0m     )\n\u001b[1;32m    836\u001b[0m \u001b[38;5;28;01mif\u001b[39;00m user_ids\u001b[38;5;241m.\u001b[39mdtype \u001b[38;5;241m!=\u001b[39m np\u001b[38;5;241m.\u001b[39mint32:\n\u001b[1;32m    837\u001b[0m     user_ids \u001b[38;5;241m=\u001b[39m user_ids\u001b[38;5;241m.\u001b[39mastype(np\u001b[38;5;241m.\u001b[39mint32)\n",
            "\u001b[0;31mValueError\u001b[0m: Expected the number of user IDs (1313891) to equal the number of item IDs (261288)"
          ],
          "ename": "ValueError",
          "evalue": "Expected the number of user IDs (1313891) to equal the number of item IDs (261288)",
          "output_type": "error"
        }
      ]
    },
    {
      "cell_type": "markdown",
      "source": [
        "# Обучение ALS"
      ],
      "metadata": {
        "id": "MAuCma4F1dmY"
      }
    },
    {
      "cell_type": "code",
      "source": [
        "# import implicit\n",
        "\n",
        "# model = implicit.als.AlternatingLeastSquares(factors=16, regularization=0, iterations=20)\n",
        "# model.fit(sparse_user_item)"
      ],
      "metadata": {
        "trusted": true,
        "id": "tgYV21Hy1dmY"
      },
      "execution_count": null,
      "outputs": []
    },
    {
      "cell_type": "code",
      "source": [
        "# user_ids = train_data['user_id'].unique()\n",
        "# df_recommendations = pd.DataFrame(dense_recommendations, columns=user_ids).stack().reset_index()\n",
        "# df_recommendations.columns = ['user_id', 'recommendation_position', 'recommendation_score']\n",
        "# df_recommendations = df_recommendations.groupby('user_id')['recommendation_position'].apply(list).reset_index()"
      ],
      "metadata": {
        "trusted": true,
        "id": "pSJESgV11dmY"
      },
      "execution_count": null,
      "outputs": []
    },
    {
      "cell_type": "code",
      "source": [
        "user_id_dict = train_data['user_id'].to_dict()\n",
        "item_id_dict = train_data['item_id'].to_dict()\n",
        "user_id_dict = {val: key for key, val in user_id_dict.items()}"
      ],
      "metadata": {
        "execution": {
          "iopub.status.busy": "2023-09-09T20:54:27.309210Z",
          "iopub.execute_input": "2023-09-09T20:54:27.309710Z",
          "iopub.status.idle": "2023-09-09T20:54:30.451837Z",
          "shell.execute_reply.started": "2023-09-09T20:54:27.309673Z",
          "shell.execute_reply": "2023-09-09T20:54:30.450514Z"
        },
        "trusted": true,
        "id": "C4PBnSJ51dmf"
      },
      "execution_count": null,
      "outputs": []
    },
    {
      "cell_type": "markdown",
      "source": [
        "# Рекомендации по одному пользователю для ALS"
      ],
      "metadata": {
        "id": "QRELEEtw1dmf"
      }
    },
    {
      "cell_type": "code",
      "source": [
        "# filtered_counts = clean_pst_df['user_id'].value_counts().loc[lambda x: x.between(1, 1000)]"
      ],
      "metadata": {
        "trusted": true,
        "id": "xwRfROnb1dmf"
      },
      "execution_count": null,
      "outputs": []
    },
    {
      "cell_type": "code",
      "source": [
        "# filtered_counts"
      ],
      "metadata": {
        "trusted": true,
        "id": "jmF1jOYL1dmf"
      },
      "execution_count": null,
      "outputs": []
    },
    {
      "cell_type": "code",
      "source": [
        "# user_id = 16540994\n",
        "# user_id_matrix = user_id_dict[user_id]\n",
        "# user_id_matrix"
      ],
      "metadata": {
        "execution": {
          "iopub.status.busy": "2023-09-09T20:55:33.927815Z",
          "iopub.execute_input": "2023-09-09T20:55:33.928336Z",
          "iopub.status.idle": "2023-09-09T20:55:33.937024Z",
          "shell.execute_reply.started": "2023-09-09T20:55:33.928302Z",
          "shell.execute_reply": "2023-09-09T20:55:33.935545Z"
        },
        "trusted": true,
        "id": "uwBIreW01dmg",
        "outputId": "04a1b54a-f9f0-47fd-bf39-f6c0f06a54a6"
      },
      "execution_count": null,
      "outputs": [
        {
          "execution_count": 54,
          "output_type": "execute_result",
          "data": {
            "text/plain": "674229"
          },
          "metadata": {}
        }
      ]
    },
    {
      "cell_type": "code",
      "source": [
        "# recommendations = model.recommend(user_id_matrix, sparse_user_item[user_id_matrix], N=1000)"
      ],
      "metadata": {
        "trusted": true,
        "id": "dMFdUqNd1dmg"
      },
      "execution_count": null,
      "outputs": []
    },
    {
      "cell_type": "code",
      "source": [
        "history = list(OrderedDict.fromkeys(clean_pst_df[clean_pst_df['user_id'] == user_id]['item_id']))\n",
        "history"
      ],
      "metadata": {
        "trusted": true,
        "id": "yld9kUeF1dmg"
      },
      "execution_count": null,
      "outputs": []
    },
    {
      "cell_type": "code",
      "source": [
        "recommendations = [item_id_dict.get(key) for key in recommendations[0]]\n",
        "unique_list = set(OrderedDict.fromkeys(recommendations)) - set(history)"
      ],
      "metadata": {
        "trusted": true,
        "id": "kBGr776a1dmg"
      },
      "execution_count": null,
      "outputs": []
    },
    {
      "cell_type": "code",
      "source": [
        "# %time\n",
        "# user_id_matrix = user_id_dict[user_id]\n",
        "# recommendations = model.recommend(user_id_matrix, sparse_user_item[user_id_matrix], N=1000)\n",
        "# history = list(OrderedDict.fromkeys(s_pst_df[s_pst_df['user_id'] == user_id]['item_id']))\n",
        "# recommendations = [item_id_dict.get(key) for key in recommendations[0]]\n",
        "# unique_list = set(OrderedDict.fromkeys(recommendations)) - set(history)\n",
        "# videos_df[videos_df['item_id'].isin(list(unique_list)[:10])]"
      ],
      "metadata": {
        "trusted": true,
        "id": "K-uWkhaX1dmg"
      },
      "execution_count": null,
      "outputs": []
    },
    {
      "cell_type": "markdown",
      "source": [
        "# Рекомендации по одному пользователю для LightFM WARP"
      ],
      "metadata": {
        "id": "XqRNLqPgF6qP"
      }
    },
    {
      "cell_type": "code",
      "source": [
        "recommendations = [item_id_dict.get(key) for key in top_items.tolist()]"
      ],
      "metadata": {
        "execution": {
          "iopub.status.busy": "2023-09-09T20:58:34.827425Z",
          "iopub.execute_input": "2023-09-09T20:58:34.827857Z",
          "iopub.status.idle": "2023-09-09T20:58:34.837107Z",
          "shell.execute_reply.started": "2023-09-09T20:58:34.827825Z",
          "shell.execute_reply": "2023-09-09T20:58:34.836096Z"
        },
        "trusted": true,
        "id": "Ehe-Vj9H1dmg"
      },
      "execution_count": null,
      "outputs": []
    },
    {
      "cell_type": "code",
      "source": [
        "recommendations = [f\"video_{video}\" for video in recommendations]"
      ],
      "metadata": {
        "execution": {
          "iopub.status.busy": "2023-09-09T20:56:18.748662Z",
          "iopub.execute_input": "2023-09-09T20:56:18.749078Z",
          "iopub.status.idle": "2023-09-09T20:56:18.755736Z",
          "shell.execute_reply.started": "2023-09-09T20:56:18.749048Z",
          "shell.execute_reply": "2023-09-09T20:56:18.754289Z"
        },
        "trusted": true,
        "id": "K_8w8PQ21dmh"
      },
      "execution_count": null,
      "outputs": []
    },
    {
      "cell_type": "code",
      "source": [
        "history = list(OrderedDict.fromkeys(s_pst_df[s_pst_df['user_id'] == user_id]['item_id']))\n",
        "recommendations = [f\"video_{video}\" for video in recommendations]\n",
        "unique_list = set(OrderedDict.fromkeys(recommendations)) - set(history)\n",
        "videos_df[videos_df['item_id'].isin(list(unique_list)[:10])]"
      ],
      "metadata": {
        "execution": {
          "iopub.status.busy": "2023-09-09T21:00:24.255835Z",
          "iopub.execute_input": "2023-09-09T21:00:24.256909Z",
          "iopub.status.idle": "2023-09-09T21:00:25.280879Z",
          "shell.execute_reply.started": "2023-09-09T21:00:24.256859Z",
          "shell.execute_reply": "2023-09-09T21:00:25.275880Z"
        },
        "trusted": true,
        "id": "Z5uts62x1dmh",
        "outputId": "28d6ba47-bf80-4f1f-c74b-f2f050dabafc"
      },
      "execution_count": null,
      "outputs": [
        {
          "execution_count": 67,
          "output_type": "execute_result",
          "data": {
            "text/plain": "               item_id                                        video_title  \\\n307013   video_1508131  Анастасия Попова («Бэби-тур») высказалась об о...   \n519031   video_1535803  Экстрасенсы ведут расследование, 6 сезон, 16 в...   \n956478    video_283933                           Выжить в Дубае, 9 выпуск   \n1282940   video_796847  ИТАЛЬЯНСКИЕ КОЖАНЫЕ ВИНТАЖНЫЕ СУМКИ У ОКСАНЫ? ...   \n1409601  video_1905049  Татьяна Руденко: к новому ритму жизни должны п...   \n1909813  video_1366097                                         brawlstars   \n2017664  video_1156618  ЖИТЬ ЖИЗНЬ 1,2,3,4,5,6,7,8 серия 1 сезон сериа...   \n2151746   video_500499       حيدر وليد الفصل الاول المحاضرة[29] دفعة 2023   \n\n                               author_title                         tv_title  \\\n307013                            Вокруг•ТВ                             None   \n519031      Экстрасенсы ведут расследование  Экстрасенсы ведут расследование   \n956478                        Телеканал ТНТ                   Выжить в Дубае   \n1282940  \"Модный Шопинг с Лилией и Ириной!\"                             None   \n1409601                            НТК Эфир                             None   \n1909813                       Играю на чиле                             None   \n2017664                             ПОПКОРН                             None   \n2151746              مفتاح السادس Sixth Key                             None   \n\n         season                                  video_description  \\\n307013        0  В 2023 году актриса снялась в комедии положени...   \n519031        6  Подмосковный Пушкино — почти Париж. И там, и т...   \n956478        1  Премьера! «Выжить в Дубае» – новое масштабное ...   \n1282940       0  Контакты ПРОДАВЦА: Линия 29 ПАВИЛЬОН 59   \\n З...   \n1409601       0  Гости программы «Детали» — психолог Татьяна Ру...   \n1909813       0                                               None   \n2017664       0                                               None   \n2151746       0                                               None   \n\n        category_title                 publicated  duration  channel_sub  \\\n307013       Лайфстайл  2023-07-21 18:27:19+03:00     99883         2146   \n519031    Телепередачи  2022-03-29 13:14:16+03:00   4270647         4973   \n956478    Телепередачи  2023-08-20 21:00:23+03:00   5616280        75496   \n1282940        Красота  2022-04-12 16:00:21+03:00   2959082          955   \n1409601   Телепередачи  2023-08-21 20:18:24+03:00   1559894          632   \n1909813      Видеоигры  2023-05-05 13:03:32+03:00     97003           16   \n2017664      Лайфстайл  2023-04-21 15:52:00+03:00   3510277          498   \n2151746        Сериалы  2023-08-17 02:16:16+03:00   1800416          552   \n\n         tv_sub  ctr.CTR_10days_21_07  ctr.CTR_10days_01_08  \\\n307013        0              0.078947              0.010526   \n519031        0              0.243671              0.202864   \n956478        0                   NaN                   NaN   \n1282940       0              0.000000              0.000000   \n1409601       0                   NaN                   NaN   \n1909813       0              0.000000              0.000000   \n2017664       0              0.201608              0.226143   \n2151746       0                   NaN                   NaN   \n\n         ctr.CTR_10days_10_08  ctr.CTR_10days_21_08  \n307013               0.010309              0.000000  \n519031               0.204230              0.222222  \n956478                    NaN              0.572971  \n1282940              0.000000              0.111111  \n1409601                   NaN              0.000000  \n1909813              0.000000              0.000000  \n2017664              0.266551              0.217391  \n2151746                   NaN              0.050000  ",
            "text/html": "<div>\n<style scoped>\n    .dataframe tbody tr th:only-of-type {\n        vertical-align: middle;\n    }\n\n    .dataframe tbody tr th {\n        vertical-align: top;\n    }\n\n    .dataframe thead th {\n        text-align: right;\n    }\n</style>\n<table border=\"1\" class=\"dataframe\">\n  <thead>\n    <tr style=\"text-align: right;\">\n      <th></th>\n      <th>item_id</th>\n      <th>video_title</th>\n      <th>author_title</th>\n      <th>tv_title</th>\n      <th>season</th>\n      <th>video_description</th>\n      <th>category_title</th>\n      <th>publicated</th>\n      <th>duration</th>\n      <th>channel_sub</th>\n      <th>tv_sub</th>\n      <th>ctr.CTR_10days_21_07</th>\n      <th>ctr.CTR_10days_01_08</th>\n      <th>ctr.CTR_10days_10_08</th>\n      <th>ctr.CTR_10days_21_08</th>\n    </tr>\n  </thead>\n  <tbody>\n    <tr>\n      <th>307013</th>\n      <td>video_1508131</td>\n      <td>Анастасия Попова («Бэби-тур») высказалась об о...</td>\n      <td>Вокруг•ТВ</td>\n      <td>None</td>\n      <td>0</td>\n      <td>В 2023 году актриса снялась в комедии положени...</td>\n      <td>Лайфстайл</td>\n      <td>2023-07-21 18:27:19+03:00</td>\n      <td>99883</td>\n      <td>2146</td>\n      <td>0</td>\n      <td>0.078947</td>\n      <td>0.010526</td>\n      <td>0.010309</td>\n      <td>0.000000</td>\n    </tr>\n    <tr>\n      <th>519031</th>\n      <td>video_1535803</td>\n      <td>Экстрасенсы ведут расследование, 6 сезон, 16 в...</td>\n      <td>Экстрасенсы ведут расследование</td>\n      <td>Экстрасенсы ведут расследование</td>\n      <td>6</td>\n      <td>Подмосковный Пушкино — почти Париж. И там, и т...</td>\n      <td>Телепередачи</td>\n      <td>2022-03-29 13:14:16+03:00</td>\n      <td>4270647</td>\n      <td>4973</td>\n      <td>0</td>\n      <td>0.243671</td>\n      <td>0.202864</td>\n      <td>0.204230</td>\n      <td>0.222222</td>\n    </tr>\n    <tr>\n      <th>956478</th>\n      <td>video_283933</td>\n      <td>Выжить в Дубае, 9 выпуск</td>\n      <td>Телеканал ТНТ</td>\n      <td>Выжить в Дубае</td>\n      <td>1</td>\n      <td>Премьера! «Выжить в Дубае» – новое масштабное ...</td>\n      <td>Телепередачи</td>\n      <td>2023-08-20 21:00:23+03:00</td>\n      <td>5616280</td>\n      <td>75496</td>\n      <td>0</td>\n      <td>NaN</td>\n      <td>NaN</td>\n      <td>NaN</td>\n      <td>0.572971</td>\n    </tr>\n    <tr>\n      <th>1282940</th>\n      <td>video_796847</td>\n      <td>ИТАЛЬЯНСКИЕ КОЖАНЫЕ ВИНТАЖНЫЕ СУМКИ У ОКСАНЫ? ...</td>\n      <td>\"Модный Шопинг с Лилией и Ириной!\"</td>\n      <td>None</td>\n      <td>0</td>\n      <td>Контакты ПРОДАВЦА: Линия 29 ПАВИЛЬОН 59   \\n З...</td>\n      <td>Красота</td>\n      <td>2022-04-12 16:00:21+03:00</td>\n      <td>2959082</td>\n      <td>955</td>\n      <td>0</td>\n      <td>0.000000</td>\n      <td>0.000000</td>\n      <td>0.000000</td>\n      <td>0.111111</td>\n    </tr>\n    <tr>\n      <th>1409601</th>\n      <td>video_1905049</td>\n      <td>Татьяна Руденко: к новому ритму жизни должны п...</td>\n      <td>НТК Эфир</td>\n      <td>None</td>\n      <td>0</td>\n      <td>Гости программы «Детали» — психолог Татьяна Ру...</td>\n      <td>Телепередачи</td>\n      <td>2023-08-21 20:18:24+03:00</td>\n      <td>1559894</td>\n      <td>632</td>\n      <td>0</td>\n      <td>NaN</td>\n      <td>NaN</td>\n      <td>NaN</td>\n      <td>0.000000</td>\n    </tr>\n    <tr>\n      <th>1909813</th>\n      <td>video_1366097</td>\n      <td>brawlstars</td>\n      <td>Играю на чиле</td>\n      <td>None</td>\n      <td>0</td>\n      <td>None</td>\n      <td>Видеоигры</td>\n      <td>2023-05-05 13:03:32+03:00</td>\n      <td>97003</td>\n      <td>16</td>\n      <td>0</td>\n      <td>0.000000</td>\n      <td>0.000000</td>\n      <td>0.000000</td>\n      <td>0.000000</td>\n    </tr>\n    <tr>\n      <th>2017664</th>\n      <td>video_1156618</td>\n      <td>ЖИТЬ ЖИЗНЬ 1,2,3,4,5,6,7,8 серия 1 сезон сериа...</td>\n      <td>ПОПКОРН</td>\n      <td>None</td>\n      <td>0</td>\n      <td>None</td>\n      <td>Лайфстайл</td>\n      <td>2023-04-21 15:52:00+03:00</td>\n      <td>3510277</td>\n      <td>498</td>\n      <td>0</td>\n      <td>0.201608</td>\n      <td>0.226143</td>\n      <td>0.266551</td>\n      <td>0.217391</td>\n    </tr>\n    <tr>\n      <th>2151746</th>\n      <td>video_500499</td>\n      <td>حيدر وليد الفصل الاول المحاضرة[29] دفعة 2023</td>\n      <td>مفتاح السادس Sixth Key</td>\n      <td>None</td>\n      <td>0</td>\n      <td>None</td>\n      <td>Сериалы</td>\n      <td>2023-08-17 02:16:16+03:00</td>\n      <td>1800416</td>\n      <td>552</td>\n      <td>0</td>\n      <td>NaN</td>\n      <td>NaN</td>\n      <td>NaN</td>\n      <td>0.050000</td>\n    </tr>\n  </tbody>\n</table>\n</div>"
          },
          "metadata": {}
        }
      ]
    },
    {
      "cell_type": "code",
      "source": [
        "def fill_submission(submission):\n",
        "    for user_id in submission['user_id'].values:\n",
        "        user_id_matrix = user_id_dict[user_id]\n",
        "        recommendations = model.recommend(user_id_matrix, sparse_user_item[user_id_matrix], N=1000)\n",
        "        history = list(OrderedDict.fromkeys(s_pst_df[s_pst_df['user_id'] == user_id]['item_id']))\n",
        "        recommendations = [item_id_dict.get(key) for key in recommendations[0]]\n",
        "        unique_list = set(OrderedDict.fromkeys(recommendations)) - set(history)\n",
        "        submission[submission['user_id'] == user_id]['recs'] = list(unique_list)[:10]\n",
        "    submission.to_csv(\"/kaggle/working/submission.csv\", index=False)\n",
        "\n",
        "fill_submission(pd.read_csv('/kaggle/input/name_data/submission.csv'))"
      ],
      "metadata": {
        "id": "fWO9QcD71dmh"
      },
      "execution_count": null,
      "outputs": []
    }
  ]
}